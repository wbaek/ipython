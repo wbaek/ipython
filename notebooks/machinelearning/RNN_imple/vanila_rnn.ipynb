{
 "cells": [
  {
   "cell_type": "code",
   "execution_count": 182,
   "metadata": {
    "collapsed": false
   },
   "outputs": [],
   "source": [
    "import numpy as np\n",
    "np.random.seed(0xC0ffee)\n",
    "\n",
    "class RNN:\n",
    "    def __init__(self, input_size, output_size, hidden_size, minibatch_size=1):\n",
    "        self.output_size = output_size\n",
    "        self.minibatch_size = minibatch_size\n",
    "        self._W_xh = 0.01 * np.random.uniform(-1.0, 1.0, (hidden_size, input_size))\n",
    "        self._W_hh = 0.01 * np.random.uniform(-1.0, 1.0, (hidden_size, hidden_size))\n",
    "        self._b_hh = np.zeros((hidden_size, ))\n",
    "        self._W_hy = 0.01 * np.random.uniform(-1.0, 1.0, (output_size, hidden_size))\n",
    "        self._b_hy = np.zeros((output_size,))\n",
    "        self._h    = np.zeros((hidden_size, minibatch_size))\n",
    "        \n",
    "        self.params = [self._W_xh, self._W_hh, self._b_hh, self._W_hy, self._b_hy]\n",
    "        self.names  = ['Wx', 'Wh', 'bh' 'W', 'b']\n",
    "        \n",
    "    def predict(self, x):\n",
    "        self._x = x\n",
    "        self._h_raw = np.dot(self._W_hh, self._h) + np.dot(self._W_xh, x)\n",
    "        for i in range(self.minibatch_size):\n",
    "            self._h_raw.T[i] += self._b_hh\n",
    "        self._h = np.tanh( self._h_raw )\n",
    "        \n",
    "        y = np.dot(self._W_hy, self._h)\n",
    "        for i in range(self.minibatch_size):\n",
    "            y.T[i] += self._b_hy\n",
    "        \n",
    "        z = np.zeros((self.output_size, self.minibatch_size))\n",
    "        for i in range(self.minibatch_size):\n",
    "            z.T[i] = np.exp( y.T[i] ) / np.sum( np.exp(y.T[i]) ) # softmax\n",
    "            \n",
    "        return z\n",
    "    \n",
    "    def loss(self, prediction, target):\n",
    "        return np.sum( - (np.log(prediction) * target) ) # negative log loss (cross-entropy loss)\n",
    "    \n",
    "    def delta(self, prediction, target):\n",
    "        return prediction - target\n",
    "    \n",
    "    def backprop(self, delta):\n",
    "        self._dW_xh = np.zeros_like(self._W_xh)\n",
    "        self._dW_hh = np.zeros_like(self._W_hh)\n",
    "        self._db_hh = np.zeros_like(self._b_hh)\n",
    "        self._dW_hy = np.zeros_like(self._W_hy)\n",
    "        self._db_hy = np.zeros_like(self._b_hy)\n",
    "        \n",
    "        self._dW_xh = np.dot(self._x, delta.T)\n",
    "        self._dW_hh = np.dot(self._x, delta.T)\n",
    "        \n",
    "        \n",
    "        \n",
    "            \n"
   ]
  },
  {
   "cell_type": "code",
   "execution_count": 184,
   "metadata": {
    "collapsed": false
   },
   "outputs": [
    {
     "name": "stdout",
     "output_type": "stream",
     "text": [
      "[[ 0.50001024  0.50001024  0.50001024]\n",
      " [ 0.49998976  0.49998976  0.49998976]]\n",
      "2.07938011594\n"
     ]
    }
   ],
   "source": [
    "rnn = RNN(8, 2, 4, 3)\n",
    "z = rnn.predict( np.array([[1, 2, 1, 2, 1, 2, 1, 2], [1, 2, 1, 2, 1, 2, 1, 2], [1, 2, 1, 2, 1, 2, 1, 2]]).T )\n",
    "print z\n",
    "l = rnn.loss(z, np.array([[1, 0], [1, 0], [1, 0]]).T)\n",
    "print l"
   ]
  },
  {
   "cell_type": "code",
   "execution_count": 185,
   "metadata": {
    "collapsed": false
   },
   "outputs": [
    {
     "name": "stdout",
     "output_type": "stream",
     "text": [
      "[[-0.49998976 -0.49998976 -0.49998976]\n",
      " [ 0.49998976  0.49998976  0.49998976]]\n"
     ]
    }
   ],
   "source": [
    "d = rnn.delta(z, np.array([[1, 0], [1, 0], [1, 0]]).T)\n",
    "print d"
   ]
  },
  {
   "cell_type": "code",
   "execution_count": 186,
   "metadata": {
    "collapsed": false
   },
   "outputs": [],
   "source": [
    "rnn.backprop( d )"
   ]
  },
  {
   "cell_type": "code",
   "execution_count": null,
   "metadata": {
    "collapsed": false
   },
   "outputs": [],
   "source": [
    "loss"
   ]
  },
  {
   "cell_type": "code",
   "execution_count": null,
   "metadata": {
    "collapsed": false
   },
   "outputs": [],
   "source": [
    "np.exp(np.array([1, 2])) / sum(np.exp(np.array([1, 2])))"
   ]
  },
  {
   "cell_type": "code",
   "execution_count": 101,
   "metadata": {
    "collapsed": false
   },
   "outputs": [
    {
     "name": "stdout",
     "output_type": "stream",
     "text": [
      "(3, 2)\n",
      "(2, 3)\n"
     ]
    }
   ],
   "source": [
    "print np.array([[1, 2], [1, 2], [1, 2]]).shape\n",
    "print np.array([[1, 2, 3], [1, 2, 3]]).shape"
   ]
  },
  {
   "cell_type": "code",
   "execution_count": 102,
   "metadata": {
    "collapsed": false
   },
   "outputs": [
    {
     "data": {
      "text/plain": [
       "array([[3, 6, 9],\n",
       "       [3, 6, 9],\n",
       "       [3, 6, 9]])"
      ]
     },
     "execution_count": 102,
     "metadata": {},
     "output_type": "execute_result"
    }
   ],
   "source": [
    "np.dot( np.array([[1, 2], [1, 2], [1, 2]]), np.array([[1, 2, 3], [1, 2, 3]]) )"
   ]
  },
  {
   "cell_type": "code",
   "execution_count": 120,
   "metadata": {
    "collapsed": false
   },
   "outputs": [
    {
     "data": {
      "text/plain": [
       "array([1, 2, 3])"
      ]
     },
     "execution_count": 120,
     "metadata": {},
     "output_type": "execute_result"
    }
   ],
   "source": [
    "np.array([[1, 2, 3], [1, 2, 3]])[0]"
   ]
  },
  {
   "cell_type": "code",
   "execution_count": null,
   "metadata": {
    "collapsed": true
   },
   "outputs": [],
   "source": []
  }
 ],
 "metadata": {
  "kernelspec": {
   "display_name": "Python 2",
   "language": "python",
   "name": "python2"
  },
  "language_info": {
   "codemirror_mode": {
    "name": "ipython",
    "version": 2
   },
   "file_extension": ".py",
   "mimetype": "text/x-python",
   "name": "python",
   "nbconvert_exporter": "python",
   "pygments_lexer": "ipython2",
   "version": "2.7.6"
  }
 },
 "nbformat": 4,
 "nbformat_minor": 0
}
